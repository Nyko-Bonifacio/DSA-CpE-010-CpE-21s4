{
  "nbformat": 4,
  "nbformat_minor": 0,
  "metadata": {
    "colab": {
      "provenance": [],
      "authorship_tag": "ABX9TyMvPljvk0oHoyMw3Y5J1mmA",
      "include_colab_link": true
    },
    "kernelspec": {
      "name": "python3",
      "display_name": "Python 3"
    },
    "language_info": {
      "name": "python"
    }
  },
  "cells": [
    {
      "cell_type": "markdown",
      "metadata": {
        "id": "view-in-github",
        "colab_type": "text"
      },
      "source": [
        "<a href=\"https://colab.research.google.com/github/Nyko-Bonifacio/DSA-CpE-010-CpE-21s4/blob/main/DSA_Activity_Exercise_1.ipynb\" target=\"_parent\"><img src=\"https://colab.research.google.com/assets/colab-badge.svg\" alt=\"Open In Colab\"/></a>"
      ]
    },
    {
      "cell_type": "markdown",
      "source": [
        "**Exercise 1 (Class Constructor and Method)**"
      ],
      "metadata": {
        "id": "rSoXLgainAAm"
      }
    },
    {
      "cell_type": "markdown",
      "source": [
        "1. Develop a Python program that computes the area of a Rectangle Shape.\n",
        "2. Use Rectangle () as a class name.\n",
        "3. Use attributes length and width\n",
        "4. Calculate the Area() of the rectangle.\n",
        "5. Display the computed area of a rectangle.\n"
      ],
      "metadata": {
        "id": "er-_n0DLnJk-"
      }
    },
    {
      "cell_type": "code",
      "source": [
        "def rectangle():\n",
        "  length = int(input(\"Enter the length of the Rectangle: \"))\n",
        "  width = int(input(\"Enter the Width of the Rectangle: \"))\n",
        "  area = length * width\n",
        "  print(\"The Area of the Rectanglel is: \", area)\n",
        "\n",
        "rectangle()"
      ],
      "metadata": {
        "colab": {
          "base_uri": "https://localhost:8080/"
        },
        "id": "KxmY-o0hndqe",
        "outputId": "309f34a4-1ee7-44bf-f859-4cd1fd37ce3e"
      },
      "execution_count": 13,
      "outputs": [
        {
          "output_type": "stream",
          "name": "stdout",
          "text": [
            "Enter the length of the Rectangle: 2\n",
            "Enter the Width of the Rectangle: 2\n",
            "The Area of the Rectanglel is:  4\n"
          ]
        }
      ]
    }
  ]
}