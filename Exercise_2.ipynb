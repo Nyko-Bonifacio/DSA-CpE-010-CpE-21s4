{
  "nbformat": 4,
  "nbformat_minor": 0,
  "metadata": {
    "colab": {
      "provenance": [],
      "authorship_tag": "ABX9TyP+xzblq2JzwGHca2Ug69Lz",
      "include_colab_link": true
    },
    "kernelspec": {
      "name": "python3",
      "display_name": "Python 3"
    },
    "language_info": {
      "name": "python"
    }
  },
  "cells": [
    {
      "cell_type": "markdown",
      "metadata": {
        "id": "view-in-github",
        "colab_type": "text"
      },
      "source": [
        "<a href=\"https://colab.research.google.com/github/Nyko-Bonifacio/DSA-CpE-010-CpE-21s4/blob/main/Exercise_2.ipynb\" target=\"_parent\"><img src=\"https://colab.research.google.com/assets/colab-badge.svg\" alt=\"Open In Colab\"/></a>"
      ]
    },
    {
      "cell_type": "code",
      "execution_count": 27,
      "metadata": {
        "colab": {
          "base_uri": "https://localhost:8080/"
        },
        "id": "Kf0dPERv8mhC",
        "outputId": "6eece208-2d74-417c-97b6-c36378a40913"
      },
      "outputs": [
        {
          "output_type": "stream",
          "name": "stdout",
          "text": [
            "Area of Rectangle: 7.0\n",
            "Area of Square: 64\n",
            "Area of Triangle: 2.0\n"
          ]
        }
      ],
      "source": [
        "class Shapes():\n",
        "    def __init__(self, length, width, sides, base, height):\n",
        "        self.length = length\n",
        "        self.width = width\n",
        "        self.sides = sides\n",
        "        self.base = base\n",
        "        self.height = height\n",
        "\n",
        "    def Area_Rectangle(self):\n",
        "        return self.length * self.width\n",
        "\n",
        "    def Area_Square(self):\n",
        "        return self.length ** 2\n",
        "\n",
        "    def Area_Triangle(self):\n",
        "        return self.base * self.height / 2\n",
        "\n",
        "\n",
        "class Rectangle(Shapes):\n",
        "    def __init__(self, length, width):\n",
        "        self.length = length\n",
        "        self.width = width\n",
        "\n",
        "    def area(self):\n",
        "        return self.Area_Rectangle()\n",
        "\n",
        "\n",
        "class Square(Shapes):\n",
        "    def __init__(self, side):\n",
        "        self.length = side\n",
        "\n",
        "    def area(self):\n",
        "        return self.Area_Square()\n",
        "\n",
        "\n",
        "class Triangle(Shapes):\n",
        "    def __init__(self, base, height):\n",
        "        self.base = base\n",
        "        self.height = height\n",
        "\n",
        "    def area(self):\n",
        "        return self.Area_Triangle()\n",
        "\n",
        "rectangle = Rectangle(length=3.5, width=2)\n",
        "print(f\"Area of Rectangle: {rectangle.area()}\")\n",
        "\n",
        "square = Square(side=8)\n",
        "print(f\"Area of Square: {square.area()}\")\n",
        "\n",
        "triangle = Triangle(base=2, height=2)\n",
        "print(f\"Area of Triangle: {triangle.area()}\")"
      ]
    }
  ]
}